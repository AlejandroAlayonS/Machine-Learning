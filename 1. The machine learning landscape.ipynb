{
 "cells": [
  {
   "cell_type": "markdown",
   "metadata": {},
   "source": [
    "# 1. The Machine Learning Landscape\n",
    "___"
   ]
  },
  {
   "cell_type": "markdown",
   "metadata": {},
   "source": [
    "## What is machine learning?\n",
    "\n",
    "* Is the science of programming computers so they can learn from data.\n",
    "* A computer program that is said to learn from experience with respect to some task and some performance measure."
   ]
  },
  {
   "cell_type": "markdown",
   "metadata": {},
   "source": [
    "## Why use machine learning?\n",
    "\n",
    "* Machine learning algorithms can simplify code and performe better in tasks that require hand-tuning or long lists of rules.\n",
    "* Usefeul in complex problems for which there is no good traditional solution.\n",
    "* Can adapt to fluctuating environments.\n",
    "* Helps to get insights about complex problems and large amounts of data."
   ]
  },
  {
   "cell_type": "markdown",
   "metadata": {},
   "source": [
    "## Types of machine learning systems\n",
    "\n",
    "Machine learning systems can be classified in categories based on:\n",
    "\n",
    "* Supervision:\n",
    "    * Supervised\n",
    "    * Unsuperised\n",
    "    * Semisupervised\n",
    "    * Reinforcement learning\n",
    "\n",
    "\n",
    "* Incrementally learning:\n",
    "    * Online learning\n",
    "    * Batch learning\n",
    "\n",
    "\n",
    "* Base of learning:\n",
    "    * Instance-based\n",
    "    * model-based"
   ]
  },
  {
   "attachments": {},
   "cell_type": "markdown",
   "metadata": {},
   "source": [
    "## Supervision\n",
    "### Supervised learning\n",
    "\n",
    "Supervised learning includes *labels* for the training data.\n",
    "\n",
    "Typical supervised tasks include:\n",
    "* Clasiffication: Spam filter in a mailbox.\n",
    "* Regression: Price of a car given a set of *features* (*predictors*).\n",
    "\n",
    "\n",
    "The most important supervised learning algorithms are:\n",
    "* k-Neares Neighbors\n",
    "* Linear Regression\n",
    "* Logistic Regression\n",
    "* Suport Vector Machines (SVM's)\n",
    "* Decision Trees and Random Forests\n",
    "* Neural networks"
   ]
  },
  {
   "attachments": {},
   "cell_type": "markdown",
   "metadata": {},
   "source": [
    "### Unsupervised learning\n",
    "\n",
    "In unsupervised learning systems the data in unlabeled \n",
    "\n",
    "Some of the most important unsupervised algorithms are:\n",
    "* Clustering:\n",
    "    * k-Means\n",
    "    * Hirearchical Cluster Analysis (HCA)\n",
    "    * Expectation Maximizations\n",
    "    \n",
    "    \n",
    "* Visualization and dimensionality reduction:\n",
    "    * Principal Component Analysis (PCA)\n",
    "    * Kernel PCA\n",
    "    * Locally-Linear Embedding (LLE)\n",
    "    * t-distributed Stochastic Neighbor Embedding (t-SNE)\n",
    "    \n",
    "    \n",
    "* Association rule learning:\n",
    "    * Apriori\n",
    "    * Eclat"
   ]
  },
  {
   "attachments": {},
   "cell_type": "markdown",
   "metadata": {},
   "source": [
    "### Semisupervised learning\n",
    "\n",
    "Algorithms that can deal with partially labeled training data.\n",
    "\n",
    "Most semisupervised learning algorithms are combinations of unsupervised and supervised algorithms."
   ]
  },
  {
   "attachments": {},
   "cell_type": "markdown",
   "metadata": {},
   "source": [
    "### Reinforcement learning\n",
    "\n",
    "The learning system or *agent* can observe the enviroment, select and perform actions and get rewards or penalties in return. It learns by itself the what is the best strategy or *policy*.\n"
   ]
  },
  {
   "attachments": {},
   "cell_type": "markdown",
   "metadata": {},
   "source": [
    "## Incrementally learning\n",
    "### Batch learnign\n",
    "\n",
    "In this type of learning the system is unable to learn incrementally, and need to be retrained periodically using all the existing data. This is called offline learning.\n",
    "\n",
    "Batch learning systems are simple and often work fine, but training the full set of data can take a long time."
   ]
  },
  {
   "attachments": {},
   "cell_type": "markdown",
   "metadata": {},
   "source": [
    "### Online learning\n",
    "\n",
    "Online learning can train the system incrementally by feeding data instances sequentially. This is great for systems that recive data as continous flow and need to adapt to change rapidly.\n",
    "\n",
    "Online learning algorithms are also used to train systems on big datasets that can't fit in one machine's memory. The algorithm chop the data into pieces and runs the training proces for each piece.\n",
    "\n",
    "\n",
    "The learning rate of the algorithm is important as it sets the velocity at which the old data will be forgotten. It is important to monitor the imput data and react to abnormal data.\n",
    "\n"
   ]
  },
  {
   "attachments": {},
   "cell_type": "markdown",
   "metadata": {},
   "source": [
    "## Base of learning\n",
    "### Instance-based learning\n",
    "The system learns the ecamples by heart, then generalizes to new cases using similarity measures."
   ]
  },
  {
   "attachments": {},
   "cell_type": "markdown",
   "metadata": {},
   "source": [
    "### Model-based learning\n",
    "\n",
    "Build a model of the examples and use the model to make predictions."
   ]
  },
  {
   "cell_type": "markdown",
   "metadata": {},
   "source": [
    "## Example 1.1"
   ]
  },
  {
   "cell_type": "code",
   "execution_count": 23,
   "metadata": {
    "scrolled": true
   },
   "outputs": [],
   "source": [
    "import matplotlib\n",
    "import matplotlib.pyplot as plt\n",
    "import numpy as np\n",
    "import pandas as pd\n",
    "import sklearn.linear_model"
   ]
  },
  {
   "cell_type": "code",
   "execution_count": 42,
   "metadata": {},
   "outputs": [
    {
     "data": {
      "image/png": "[encoded data removed]",
      "text/plain": [
       "<Figure size 432x288 with 1 Axes>"
      ]
     },
     "metadata": {
      "needs_background": "light"
     },
     "output_type": "display_data"
    },
    {
     "name": "stdout",
     "output_type": "stream",
     "text": [
      "[[5.96242338]]\n"
     ]
    }
   ],
   "source": [
    "# Data loading\n",
    "oecd_bli = pd.read_csv('Desktop\\\\Books\\\\Hands-On Machine Learning\\\\handson-ml-master\\\\datasets\\\\lifesat\\\\oecd_bli_2015.csv', thousands=',')\n",
    "gdp_per_capita = pd.read_csv('Desktop\\\\Books\\\\Hands-On Machine Learning\\\\handson-ml-master\\\\datasets\\\\lifesat\\\\gdp_per_capita.csv', thousands=',',delimiter='\\t',encoding='latin1',na_values='n/a')\n",
    "\n",
    "# Data preparation\n",
    "def prepare_country_stats(oecd_bli, gdp_per_capita):\n",
    "    oecd_bli = oecd_bli[oecd_bli[\"INEQUALITY\"]==\"TOT\"]\n",
    "    oecd_bli = oecd_bli.pivot(index=\"Country\", columns=\"Indicator\", values=\"Value\")\n",
    "    gdp_per_capita.rename(columns={\"2015\": \"GDP per capita\"}, inplace=True)\n",
    "    gdp_per_capita.set_index(\"Country\", inplace=True)\n",
    "    full_country_stats = pd.merge(left=oecd_bli, right=gdp_per_capita,\n",
    "                                  left_index=True, right_index=True)\n",
    "    full_country_stats.sort_values(by=\"GDP per capita\", inplace=True)\n",
    "    remove_indices = [0, 1, 6, 8, 33, 34, 35]\n",
    "    keep_indices = list(set(range(36)) - set(remove_indices))\n",
    "    return full_country_stats[[\"GDP per capita\", 'Life satisfaction']].iloc[keep_indices]\n",
    "\n",
    "country_stats = prepare_country_stats(oecd_bli, gdp_per_capita)\n",
    "X = np.c_[country_stats['GDP per capita']]\n",
    "y = np.c_[country_stats['Life satisfaction']]\n",
    "\n",
    "#Visualization of data\n",
    "country_stats.plot(kind='scatter', x='GDP per capita', y='Life satisfaction')\n",
    "x1 = np.linspace(0,60000,100)\n",
    "y1 = lin_reg_model.intercept_[0]+lin_reg_model.coef_[0]*x1\n",
    "plt.plot(x1,y1,'r')\n",
    "plt.show()\n",
    "\n",
    "#Selecting model\n",
    "lin_reg_model = sklearn.linear_model.LinearRegression()\n",
    "\n",
    "#Training the model\n",
    "lin_reg_model.fit(X,y)\n",
    "\n",
    "#Make a prediction\n",
    "X_new = [[22587]]\n",
    "print(lin_reg_model.predict(X_new))\n"
   ]
  },
  {
   "cell_type": "markdown",
   "metadata": {},
   "source": [
    "## Main challenges of ML\n",
    "\n",
    "### Insuficient quantity of training data\n",
    "It takes a lot of data for most ML algorithms to work properly. Data matters more than algorithms for complex problems.\n",
    "### Nonrepresentative training data\n",
    "Training data must be representative of the new cases you want to generalize. If the data sample is to small you can get *sampling noise* and if it is too large you can get *sampling bias*.\n",
    "### Poor-quality data\n",
    "Data with errors, outliers and noise will make harder for the system to detect underlying patterns. Cleaning up the data is an essential part of ML.\n",
    "### Irrelevant features\n",
    "A good set features to train on is key. This is called feature engineering and it involves:\n",
    "* Feature selection: Selecting the most useful features.\n",
    "* Feature extraction: Dimensionality reduction to produce more useful features.\n",
    "* Feature creation: Gathering new data\n",
    "\n",
    "### Overfitting the training data\n",
    "The model performs well on the training data, but it doesn't generalize well. Overfitting happens when the model is to complex relative to the amount and noisiness of trianing data. Posible solutions are:\n",
    "* Simplify the model by reducing parameters, attributes or constrains\n",
    "* Gater more training data\n",
    "* Reduce the noise in the training data\n",
    "\n",
    "\n",
    "To constrain a model to make it simpler is called *regularization*. The objective is to find the right balance between fitting the data perfectly and keeping the model simple enough to ensure it will generalize well. This can be done by using *hyperparameters*.\n",
    "### Underfitting the training data\n",
    "It occurs when the model is too simple. Some solutions are:\n",
    "* Selecting a more powerful model, with more parameters\n",
    "* Feature angineering the algorithm\n",
    "* Reducing the constrains on the model\n"
   ]
  },
  {
   "cell_type": "markdown",
   "metadata": {},
   "source": [
    "## Testing and validating\n",
    "\n",
    "One way to test a model is to split the data into two sets: the *training set* and the *test set*. The error rate on new cases is called the generalization error. If the training error is low but the generalization error is high it means that the model is overfitting the data. (It is common to use 80% of the data for training and hold out 20% for testing)\n",
    "\n",
    "How to chose the value of a regularization hyperparameter? By using cross-validation between training sets.\n",
    "\n",
    "If the test set is used to tweek the hyperparameters of the model it risks overfitting the test set, this is the reason of the validation set.\n"
   ]
  }
 ],
 "metadata": {
  "kernelspec": {
   "display_name": "Python 3",
   "language": "python",
   "name": "python3"
  },
  "language_info": {
   "codemirror_mode": {
    "name": "ipython",
    "version": 3
   },
   "file_extension": ".py",
   "mimetype": "text/x-python",
   "name": "python",
   "nbconvert_exporter": "python",
   "pygments_lexer": "ipython3",
   "version": "3.7.3"
  }
 },
 "nbformat": 4,
 "nbformat_minor": 2
}
